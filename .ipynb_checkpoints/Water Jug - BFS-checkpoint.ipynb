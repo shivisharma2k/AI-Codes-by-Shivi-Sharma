{
 "cells": [
  {
   "cell_type": "markdown",
   "metadata": {},
   "source": [
    "# Water Jug - BFS"
   ]
  },
  {
   "cell_type": "code",
   "execution_count": null,
   "metadata": {},
   "outputs": [],
   "source": [
    "class State:\n",
    "    def __init__(self, x, y, Id, parent, children):\n",
    "        self.x = x\n",
    "        self.y = y\n",
    "        self.id = Id\n",
    "        self.parent = parent\n",
    "        self.children = children\n",
    "    def fillX(self):\n",
    "        self.x = jug_1_max_cap\n",
    "    def fillY(self):\n",
    "        self.y = jug_2_max_cap\n",
    "    def fillXFromY(self):\n",
    "        if(self.y>=jug_1_max_cap-self.x):\n",
    "            self.y = self.y - (jug_1_max_cap-self.x)\n",
    "            self.x = jug_1_max_cap\n",
    "        else:\n",
    "            self.x = self.x + self.y\n",
    "            self.y = 0\n",
    "    def fillYFromX(self):\n",
    "        if(self.x>=jug_2_max_cap-self.y):\n",
    "            self.x = self.x - (jug_2_max_cap-self.y)\n",
    "             self.y = jug_2_max_cap\n",
    "        else:\n",
    "            self.y = self.y + self.x\n",
    "            self.x = 0\n",
    "    def EmptyX(self):\n",
    "        self.x = 0\n",
    "    def EmptyY(self):\n",
    "        self.y = 0\n",
    "    def hasReachedFinal(self):\n",
    "        if(self.x==jug_1_final_cap and self.y==jug_2_final_cap):\n",
    "            return True\n",
    "        return False"
   ]
  },
  {
   "cell_type": "code",
   "execution_count": null,
   "metadata": {},
   "outputs": [],
   "source": [
    "jug_1_max_cap = 3\n",
    "jug_2_max_cap = 4\n",
    "\n",
    "jug_1_final_cap = 0\n",
    "jug_2_final_cap = 2\n",
    "\n",
    "tree = {}\n",
    "s = 0\n",
    "parent = 0\n",
    "root = State(0,0,s,None,[])\n",
    "tree[s] = root\n",
    "s += 1\n",
    "\n",
    "while(True):\n",
    "    newNode = State(tree[parent].x,tree[parent].y,s,parent,[])\n",
    "    if(newNode.y != jug_2_max_cap):\n",
    "        newNode.fillY()\n",
    "        tree[parent].children.append(newNode)\n",
    "        tree[s] = newNode\n",
    "        s += 1\n",
    "        if(newNode.hasReachedFinal()):\n",
    "            break\n",
    "            \n",
    "    newNode = State(tree[parent].x,tree[parent].y,s,parent,[])\n",
    "    if(newNode.x != jug_1_max_cap):\n",
    "        newNode.fillX()\n",
    "        tree[parent].children.append(newNode)\n",
    "        tree[s] = newNode\n",
    "        s += 1\n",
    "        if(newNode.hasReachedFinal()):\n",
    "            break\n",
    "            \n",
    "    newNode = State(tree[parent].x,tree[parent].y,s,parent,[])\n",
    "    if(newNode.y != 0):\n",
    "        newNode.EmptyY()\n",
    "        tree[parent].children.append(newNode)\n",
    "        tree[s] = newNode\n",
    "        s += 1\n",
    "        if(newNode.hasReachedFinal()):\n",
    "            break\n",
    "            \n",
    "    newNode = State(tree[parent].x,tree[parent].y,s,parent,[])\n",
    "    if(newNode.x != 0):\n",
    "        newNode.EmptyX()\n",
    "        tree[parent].children.append(newNode)\n",
    "        tree[s] = newNode\n",
    "        s += 1\n",
    "        if(newNode.hasReachedFinal()):\n",
    "            break\n",
    "            \n",
    "    newNode = State(tree[parent].x,tree[parent].y,s,parent,[])\n",
    "    if(newNode.x != 0 and newNode.y!=jug_2_max_cap):\n",
    "        newNode.fillYFromX()\n",
    "        tree[parent].children.append(newNode)\n",
    "        tree[s] = newNode\n",
    "        s += 1\n",
    "        if(newNode.hasReachedFinal()):\n",
    "            break\n",
    "            \n",
    "    newNode = State(tree[parent].x,tree[parent].y,s,parent,[])\n",
    "    if(newNode.y != 0 and newNode.x!=jug_1_max_cap):\n",
    "        newNode.fillXFromY()\n",
    "        tree[parent].children.append(newNode)\n",
    "        tree[s] = newNode\n",
    "        s += 1\n",
    "        if(newNode.hasReachedFinal()):\n",
    "            break\n",
    "            \n",
    "    parent +=1\n",
    "    "
   ]
  },
  {
   "cell_type": "code",
   "execution_count": null,
   "metadata": {},
   "outputs": [],
   "source": [
    "for i in tree:\n",
    "    print(str(i) + \" - \" + str(tree[i].parent) + \" : \" + str(tree[i].x) + \",\" + str(tree[i].y))"
   ]
  },
  {
   "cell_type": "code",
   "execution_count": null,
   "metadata": {
    "scrolled": true
   },
   "outputs": [],
   "source": [
    "s = len(tree)-1\n",
    "result = []\n",
    "while(s!=None):  \n",
    "    result.append([tree[s].x, tree[s].y])\n",
    "    s = tree[s].parent\n",
    "for j in reversed(result):\n",
    "    print(j, end =\" \")"
   ]
  },
  {
   "cell_type": "code",
   "execution_count": null,
   "metadata": {},
   "outputs": [],
   "source": []
  }
 ],
 "metadata": {
  "kernelspec": {
   "display_name": "Python 3",
   "language": "python",
   "name": "python3"
  },
  "language_info": {
   "codemirror_mode": {
    "name": "ipython",
    "version": 3
   },
   "file_extension": ".py",
   "mimetype": "text/x-python",
   "name": "python",
   "nbconvert_exporter": "python",
   "pygments_lexer": "ipython3",
   "version": "3.8.8"
  }
 },
 "nbformat": 4,
 "nbformat_minor": 4
}
